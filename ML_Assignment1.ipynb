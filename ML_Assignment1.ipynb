{
  "nbformat": 4,
  "nbformat_minor": 0,
  "metadata": {
    "colab": {
      "provenance": []
    },
    "kernelspec": {
      "name": "python3",
      "display_name": "Python 3"
    },
    "language_info": {
      "name": "python"
    }
  },
  "cells": [
    {
      "cell_type": "markdown",
      "source": [
        "Q1: Questions on Basic NumPy Array\n",
        "\n",
        "(a) Reverse the NumPy array: arr = np.array([1, 2, 3, 6, 4, 5])\n",
        "\n",
        "(b) Flatten the NumPy arr: array1 = np.array([[1, 2, 3], [2, 4, 5], [1, 2, 3]]) using any two\n",
        "NumPy in-built methods\n",
        "\n",
        "(c) Compare the following numpy arrays:\n",
        "\n",
        "arr1 = np.array([[1, 2], [3, 4]])\n",
        "\n",
        "arr2 = np.array([[1, 2], [3, 4]])\n",
        "\n",
        "(d) Find the most frequent value and their indice(s) in the following arrays:\n",
        "\n",
        "i. x = np.array([1,2,3,4,5,1,2,1,1,1])\n",
        "\n",
        "ii. y = np.array([1, 1, 1, 2, 3, 4, 2, 4, 3, 3, ])\n",
        "\n",
        "(e) For the array gfg = np.matrix('[4, 1, 9; 12, 3, 1; 4, 5, 6]'), find\n",
        "\n",
        "i. Sum of all elements\n",
        "\n",
        "ii. Sum of all elements row-wise\n",
        "\n",
        "iii. Sum of all elements column-wise\n",
        "\n",
        "(f) For the matrix: n_array = np.array([[55, 25, 15],[30, 44, 2],[11, 45, 77]]), find\n",
        "\n",
        "\n",
        "i. Sum of diagonal elements\n",
        "\n",
        "ii. Eigen values of matrix\n",
        "\n",
        "iii. Eigen vectors of matrix\n",
        "\n",
        "iv. Inverse of matrix\n",
        "\n",
        "v. Determinant of matrix\n",
        "\n",
        "(g) Multiply the following matrices and also find covariance between matrices using NumPy:\n",
        "\n",
        "i. p = [[1, 2], [2, 3]]\n",
        "\n",
        "q = [[4, 5], [6, 7]]\n",
        "\n",
        "ii. p = [[1, 2], [2, 3], [4, 5]]\n",
        "\n",
        "q = [[4, 5, 1], [6, 7, 2]]\n",
        "\n",
        "(h) For the matrices: x = np.array([[2, 3, 4], [3, 2, 9]]); y = np.array([[1, 5, 0], [5, 10, 3]]),\n",
        "\n",
        "find inner, outer and cartesian product?"
      ],
      "metadata": {
        "id": "pp1RGekZ9HGa"
      }
    },
    {
      "cell_type": "code",
      "source": [
        "import numpy as np\n",
        "# Question 1(a)\n",
        "arr = np.array([1, 2, 3, 6, 4, 5])\n",
        "arr[::-1]\n",
        "\n"
      ],
      "metadata": {
        "colab": {
          "base_uri": "https://localhost:8080/"
        },
        "id": "JW5EnB849ROp",
        "outputId": "3ca20864-5b63-429d-c31e-899b29c67a8b"
      },
      "execution_count": null,
      "outputs": [
        {
          "output_type": "execute_result",
          "data": {
            "text/plain": [
              "array([5, 4, 6, 3, 2, 1])"
            ]
          },
          "metadata": {},
          "execution_count": 11
        }
      ]
    },
    {
      "cell_type": "code",
      "source": [
        "#1(b)\n",
        "array1= np.array([[1, 2, 3], [2, 4, 5], [1, 2, 3]])\n",
        "array1.flatten()"
      ],
      "metadata": {
        "colab": {
          "base_uri": "https://localhost:8080/"
        },
        "id": "HqISF3xh-IRa",
        "outputId": "f44e665d-52ee-407e-e6eb-992861e4de3a"
      },
      "execution_count": null,
      "outputs": [
        {
          "output_type": "execute_result",
          "data": {
            "text/plain": [
              "array([1, 2, 3, 2, 4, 5, 1, 2, 3])"
            ]
          },
          "metadata": {},
          "execution_count": 10
        }
      ]
    },
    {
      "cell_type": "code",
      "source": [
        "#1(c)\n",
        "arr1 = np.array([[1, 2], [3, 4]])\n",
        "arr2 = np.array([[1, 2], [3, 4]])\n",
        "np.array_equal(arr1,arr2)"
      ],
      "metadata": {
        "colab": {
          "base_uri": "https://localhost:8080/"
        },
        "id": "6s2zz_Tw-Jv6",
        "outputId": "8925ad53-eaa0-41eb-8b1d-8b86d63bd128"
      },
      "execution_count": null,
      "outputs": [
        {
          "output_type": "execute_result",
          "data": {
            "text/plain": [
              "True"
            ]
          },
          "metadata": {},
          "execution_count": 12
        }
      ]
    },
    {
      "cell_type": "code",
      "source": [
        "#1(d)\n",
        "x = np.array([1,2,3,4,5,1,2,1,1,1])\n",
        "y = np.array([1, 1, 1, 2, 3, 4, 2, 4, 3, 3, ])\n",
        "\n",
        "# For array x\n",
        "counts_x = np.bincount(x)\n",
        "most_frequent_x = np.argmax(counts_x)\n",
        "indices_x = np.where(x == most_frequent_x)[0]\n",
        "print(\"the most frequent value in x is\",most_frequent_x )\n",
        "print(\"And their indices are\",indices_x )\n",
        "\n",
        "# For array y\n",
        "counts_y = np.bincount(x)\n",
        "most_frequent_y = np.argmax(counts_y)\n",
        "indices_y = np.where(y == most_frequent_y)[0]\n",
        "print(\"the most frequent value in y is\",most_frequent_y )\n",
        "print(\"And their indices are\",indices_y )\n",
        "\n",
        "\n"
      ],
      "metadata": {
        "colab": {
          "base_uri": "https://localhost:8080/"
        },
        "id": "gBWNijXd-cwa",
        "outputId": "15d6de10-a021-4730-e7f9-b06a2c856425"
      },
      "execution_count": null,
      "outputs": [
        {
          "output_type": "stream",
          "name": "stdout",
          "text": [
            "the most frequent value in x is 1\n",
            "And their indices are [0 5 7 8 9]\n",
            "the most frequent value in x is 1\n",
            "And their indices are [0 1 2]\n"
          ]
        }
      ]
    },
    {
      "cell_type": "code",
      "source": [
        "#1(e)\n",
        "gfg=np.matrix('[4,1,9;12,3,1;4,5,6]')\n",
        "sum=np.sum(gfg)\n",
        "print(\"sum of the whole matrix\",sum)\n",
        "sum1=np.sum(gfg,1)\n",
        "print(\"sum of elements row-wise\",sum1)\n",
        "sum2=np.sum(gfg,0)\n",
        "print(\"sum of elements column-wise\",sum2)"
      ],
      "metadata": {
        "colab": {
          "base_uri": "https://localhost:8080/"
        },
        "id": "r_HR8rkuBEYi",
        "outputId": "63122cfd-c181-4b70-9cc8-a225aeedf41c"
      },
      "execution_count": null,
      "outputs": [
        {
          "output_type": "stream",
          "name": "stdout",
          "text": [
            "sum of the whole matrix 45\n",
            "sum of elements row-wise [[14]\n",
            " [16]\n",
            " [15]]\n",
            "sum of elements column-wise [[20  9 16]]\n"
          ]
        }
      ]
    },
    {
      "cell_type": "code",
      "source": [
        " #1(f)\n",
        "n_array = np.array([[55, 25, 15],[30, 44, 2],[11, 45, 77]])\n",
        "\n",
        "diagonal = np.trace(n_array)\n",
        "print(\"Sum of diagonal elements\", diagonal)\n",
        "\n",
        "eigenvalues, eigenvectors = np.linalg.eig(n_array)\n",
        "print(\"Eigen values\", eigenvalues)\n",
        "print(\"Eigen vectors\\n\", eigenvectors)\n",
        "\n",
        "inverse= np.linalg.inv(n_array)\n",
        "print(\"Inverse of matrix\\n\", inverse)\n",
        "\n",
        "determinant = np.linalg.det(n_array)\n",
        "print(\"Determinant of matrix\", determinant)"
      ],
      "metadata": {
        "colab": {
          "base_uri": "https://localhost:8080/"
        },
        "id": "rGrSTh9MB_Ts",
        "outputId": "d3044868-0e4d-497c-b306-ba387c2ce652"
      },
      "execution_count": null,
      "outputs": [
        {
          "output_type": "stream",
          "name": "stdout",
          "text": [
            "Sum of diagonal elements 176\n",
            "Eigen values [98.16835147 28.097044   49.73460452]\n",
            "Eigen vectors\n",
            " [[ 0.4574917   0.34637121 -0.15017693]\n",
            " [ 0.28447814 -0.72784061 -0.4852124 ]\n",
            " [ 0.84248058  0.59184038  0.8614034 ]]\n",
            "Inverse of matrix\n",
            " [[ 0.02404141 -0.00911212 -0.00444671]\n",
            " [-0.01667882  0.02966905  0.0024785 ]\n",
            " [ 0.00631287 -0.01603732  0.01217379]]\n",
            "Determinant of matrix 137180.0000000001\n"
          ]
        }
      ]
    },
    {
      "cell_type": "code",
      "source": [
        "#1(f)\n",
        "p=np.array([[1,2],[2,3]])\n",
        "q=np.array([[4,5],[6,7]])\n",
        "ar=np.matmul(p,q)\n",
        "ar2=np.cov(p,q)\n",
        "print(\"matrix multiplication\")\n",
        "print(ar)\n",
        "print(\"their covariance\",ar2)"
      ],
      "metadata": {
        "colab": {
          "base_uri": "https://localhost:8080/"
        },
        "id": "hE34RLvJDJyS",
        "outputId": "f444fa81-e3c6-499f-c9b2-a46d21e27ba7"
      },
      "execution_count": null,
      "outputs": [
        {
          "output_type": "stream",
          "name": "stdout",
          "text": [
            "matrix multiplication\n",
            "[[16 19]\n",
            " [26 31]]\n",
            "their covariance [[0.5 0.5 0.5 0.5]\n",
            " [0.5 0.5 0.5 0.5]\n",
            " [0.5 0.5 0.5 0.5]\n",
            " [0.5 0.5 0.5 0.5]]\n"
          ]
        }
      ]
    },
    {
      "cell_type": "code",
      "source": [
        "# 1(h)\n",
        "x = np.array([[2, 3, 4], [3, 2, 9]])\n",
        "y = np.array([[1, 5, 0], [5, 10, 3]])\n",
        "\n",
        "inner = np.inner(x, y)\n",
        "print(\"Inner product\\n\", inner)\n",
        "\n",
        "flat1 = x.flatten()\n",
        "flat2 = y.flatten()\n",
        "outer= np.outer(flat1, flat2)\n",
        "print(\"Outer product \\n\", outer)\n",
        "\n",
        "cartesian= np.array(np.meshgrid(x.flatten(), y.flatten())).T.reshape(-1, 2)\n",
        "print(\"\\nCartesian product\\n\", cartesian)"
      ],
      "metadata": {
        "colab": {
          "base_uri": "https://localhost:8080/"
        },
        "id": "JMWejRP_E9iq",
        "outputId": "24cd1142-d27b-45c3-fc16-2b4cbab9d2ba"
      },
      "execution_count": null,
      "outputs": [
        {
          "output_type": "stream",
          "name": "stdout",
          "text": [
            "Inner product:\n",
            " [[17 52]\n",
            " [13 62]]\n",
            "\n",
            "Outer product \n",
            " [[ 2 10  0 10 20  6]\n",
            " [ 3 15  0 15 30  9]\n",
            " [ 4 20  0 20 40 12]\n",
            " [ 3 15  0 15 30  9]\n",
            " [ 2 10  0 10 20  6]\n",
            " [ 9 45  0 45 90 27]]\n",
            "\n",
            "Cartesian product (pairing elements)\n",
            " [[ 2  1]\n",
            " [ 2  5]\n",
            " [ 2  0]\n",
            " [ 2  5]\n",
            " [ 2 10]\n",
            " [ 2  3]\n",
            " [ 3  1]\n",
            " [ 3  5]\n",
            " [ 3  0]\n",
            " [ 3  5]\n",
            " [ 3 10]\n",
            " [ 3  3]\n",
            " [ 4  1]\n",
            " [ 4  5]\n",
            " [ 4  0]\n",
            " [ 4  5]\n",
            " [ 4 10]\n",
            " [ 4  3]\n",
            " [ 3  1]\n",
            " [ 3  5]\n",
            " [ 3  0]\n",
            " [ 3  5]\n",
            " [ 3 10]\n",
            " [ 3  3]\n",
            " [ 2  1]\n",
            " [ 2  5]\n",
            " [ 2  0]\n",
            " [ 2  5]\n",
            " [ 2 10]\n",
            " [ 2  3]\n",
            " [ 9  1]\n",
            " [ 9  5]\n",
            " [ 9  0]\n",
            " [ 9  5]\n",
            " [ 9 10]\n",
            " [ 9  3]]\n"
          ]
        }
      ]
    },
    {
      "cell_type": "markdown",
      "source": [
        "Q2: Based on NumPy Mathematics and Statistics\n",
        "\n",
        "(a) For the array: array = np.array([[1, -2, 3],[-4, 5, -6]])\n",
        "\n",
        "i. Find element-wise absolute value\n",
        "\n",
        "ii. Find the 25th, 50th, and 75th percentile of flattened array, for each column, for each\n",
        "row.\n",
        "\n",
        "iii. Mean, Median and Standard Deviation of flattened array, of each column, and\n",
        "each row\n",
        "\n",
        "(b) For the array: a = np.array([-1.8, -1.6, -0.5, 0.5,1.6, 1.8, 3.0]).\n",
        "\n",
        " Find floor, ceiling\n",
        "and truncated value, rounded values"
      ],
      "metadata": {
        "id": "AFp8ZciCGNoz"
      }
    },
    {
      "cell_type": "code",
      "source": [
        "array=np.array([[1,-2,3],[-4,5,-6]])\n",
        "\n",
        "abs= np.abs(array)\n",
        "print(\"Element-wise absolute value:\\n\", abs)\n",
        "\n",
        "flattened = array.flatten()\n",
        "percent = np.percentile(flattened, [25, 50, 75])\n",
        "print(\"\\n25th, 50th, and 75th percentile of flattened array:\", percent)\n",
        "\n",
        "percentiles_col = np.percentile(array, [25, 50, 75], axis=0)\n",
        "print(\"25th, 50th, and 75th percentile for each column:\\n\", percentiles_col)\n",
        "\n",
        "percentiles_row = np.percentile(array, [25, 50, 75], axis=1)\n",
        "print(\"25th, 50th, and 75th percentile for each row:\\n\", percentiles_row)\n",
        "\n",
        "mean_flat = np.mean(flattened)\n",
        "median_flat = np.median(flattened)\n",
        "std_flat = np.std(flattened)\n",
        "print(\"\\nMean of flattened array:\", mean_flat)\n",
        "print(\"Median of flattened array:\", median_flat)\n",
        "print(\"Standard Deviation of flattened array:\", std_flat)\n",
        "\n",
        "mean_col = np.mean(array, axis=0)\n",
        "median_col = np.median(array, axis=0)\n",
        "std_col = np.std(array, axis=0)\n",
        "print(\"Mean of each column:\", mean_col)\n",
        "print(\"Median of each column:\", median_col)\n",
        "print(\"Standard Deviation of each column:\", std_col)\n",
        "\n",
        "mean_row = np.mean(array, axis=1)\n",
        "median_row = np.median(array, axis=1)\n",
        "std_row = np.std(array, axis=1)\n",
        "print(\"Mean of each row:\", mean_row)\n",
        "print(\"Median of each row:\", median_row)\n",
        "print(\"Standard Deviation of each row:\", std_row)"
      ],
      "metadata": {
        "colab": {
          "base_uri": "https://localhost:8080/"
        },
        "id": "n84dGyXtGUpB",
        "outputId": "b6735d92-d2eb-460b-f1f2-12b7f24d0e03"
      },
      "execution_count": null,
      "outputs": [
        {
          "output_type": "stream",
          "name": "stdout",
          "text": [
            "Element-wise absolute value:\n",
            " [[1 2 3]\n",
            " [4 5 6]]\n",
            "\n",
            "25th, 50th, and 75th percentile of flattened array: [-3.5 -0.5  2.5]\n",
            "25th, 50th, and 75th percentile for each column:\n",
            " [[-2.75 -0.25 -3.75]\n",
            " [-1.5   1.5  -1.5 ]\n",
            " [-0.25  3.25  0.75]]\n",
            "25th, 50th, and 75th percentile for each row:\n",
            " [[-0.5 -5. ]\n",
            " [ 1.  -4. ]\n",
            " [ 2.   0.5]]\n",
            "\n",
            "Mean of flattened array: -0.5\n",
            "Median of flattened array: -0.5\n",
            "Standard Deviation of flattened array: 3.8622100754188224\n",
            "Mean of each column: [-1.5  1.5 -1.5]\n",
            "Median of each column: [-1.5  1.5 -1.5]\n",
            "Standard Deviation of each column: [2.5 3.5 4.5]\n",
            "Mean of each row: [ 0.66666667 -1.66666667]\n",
            "Median of each row: [ 1. -4.]\n",
            "Standard Deviation of each row: [2.05480467 4.78423336]\n"
          ]
        }
      ]
    },
    {
      "cell_type": "code",
      "source": [
        "# 2(b)\n",
        "a = np.array([-1.8, -1.6, -0.5, 0.5, 1.6, 1.8, 3.0])\n",
        "floor1 = np.floor(a)\n",
        "print(\"Floor values\", floor1)\n",
        "ceil_values = np.ceil(a)\n",
        "print(\"Ceiling values\", ceil_values)\n",
        "trunc = np.trunc(a)\n",
        "print(\"Truncated values\", trunc)\n",
        "rounded = np.round(a)\n",
        "print(\"Rounded values\", rounded)"
      ],
      "metadata": {
        "colab": {
          "base_uri": "https://localhost:8080/"
        },
        "id": "mWa7k-huHata",
        "outputId": "7cde6018-870c-4021-901a-4cd6acfd6a03"
      },
      "execution_count": null,
      "outputs": [
        {
          "output_type": "stream",
          "name": "stdout",
          "text": [
            "Floor values [-2. -2. -1.  0.  1.  1.  3.]\n",
            "Ceiling values [-1. -1. -0.  1.  2.  2.  3.]\n",
            "Truncated values [-1. -1. -0.  0.  1.  1.  3.]\n",
            "Rounded values [-2. -2. -0.  0.  2.  2.  3.]\n"
          ]
        }
      ]
    },
    {
      "cell_type": "markdown",
      "source": [
        "Q3: Based on Searching and Sorting\n",
        "\n",
        "(a) For the array: array = np.array([10, 52, 62, 16, 16, 54, 453]), find\n",
        "\n",
        "i. Sorted array\n",
        "\n",
        "ii. Indices of sorted array\n",
        "\n",
        "iii. 4 smallest elements\n",
        "\n",
        "iv. 5 largest elements\n",
        "\n",
        "(b) For the array: array = np.array([1.0, 1.2, 2.2, 2.0, 3.0, 2.0]), find\n",
        "\n",
        "i. Integer elements only\n",
        "\n",
        "ii. Float elements only"
      ],
      "metadata": {
        "id": "fnPY5uVMHyYC"
      }
    },
    {
      "cell_type": "code",
      "source": [
        "# 3(a)\n",
        "array_a = np.array([10, 52, 62, 16, 16, 54, 453])\n",
        "\n",
        "sorted1 = np.sort(array_a)\n",
        "print(\"Sorted array\", sorted1)\n",
        "\n",
        "indices = np.argsort(array_a)\n",
        "print(\"Indices of sorted array\", indices)\n",
        "\n",
        "small = np.sort(array_a)[:4]\n",
        "print(\"4 smallest elements\", small)\n",
        "\n",
        "large = np.sort(array_a)[::-1][:5]\n",
        "print(\"5 largest elements\", large)"
      ],
      "metadata": {
        "colab": {
          "base_uri": "https://localhost:8080/"
        },
        "id": "JomcC84oH9nK",
        "outputId": "92ff700d-6a43-4437-d4e3-cebdea21b5bc"
      },
      "execution_count": null,
      "outputs": [
        {
          "output_type": "stream",
          "name": "stdout",
          "text": [
            "Sorted array [ 10  16  16  52  54  62 453]\n",
            "Indices of sorted array [0 3 4 1 5 2 6]\n",
            "4 smallest elements: [10 16 16 52]\n",
            "5 largest elements: [453  62  54  52  16]\n"
          ]
        }
      ]
    },
    {
      "cell_type": "code",
      "source": [
        "# 3(b)\n",
        "array= np.array([1.0, 1.2, 2.2, 2.0, 3.0, 2.0])\n",
        "\n",
        "only_int = array[array== array.astype(int)]\n",
        "print(\"Integer elements only\",only_int)\n",
        "\n",
        "only_float = array[array!= array.astype(int)]\n",
        "print(\"Float elements only:\", only_float )"
      ],
      "metadata": {
        "colab": {
          "base_uri": "https://localhost:8080/"
        },
        "id": "vV3yWluoIW-D",
        "outputId": "8cd14be9-c646-4843-ca0b-80b9d8b9da33"
      },
      "execution_count": null,
      "outputs": [
        {
          "output_type": "stream",
          "name": "stdout",
          "text": [
            "Integer elements only [1. 2. 3. 2.]\n",
            "Float elements only: [1.2 2.2]\n"
          ]
        }
      ]
    },
    {
      "cell_type": "markdown",
      "source": [
        "4:\n",
        "(a) Write a function named img_to_array(path) that reads an image from a specified path and\n",
        "\n",
        "save it as text file on local machine? (Note: use separate cases for RGB and Grey Scale\n",
        "images)\n",
        "\n",
        "(b) Load the saved file into jupyter notebook?\n"
      ],
      "metadata": {
        "id": "4Iibn8vFIwha"
      }
    },
    {
      "cell_type": "code",
      "source": [
        "from PIL import Image\n",
        "import numpy as np\n",
        "import os\n",
        "\n",
        "def img_to_array(image_path):\n",
        "    image = Image.open(image_path)\n",
        "    image_array = np.array(image)\n",
        "    if len(image_array.shape) == 2:\n",
        "        np.savetxt(\"grayscale_image.txt\", image_array, fmt='%d')\n",
        "        print(\"Grayscale image saved as 'grayscale_image.txt'\")\n",
        "    else:\n",
        "        height, width, channels = image_array.shape\n",
        "        flattened = image_array.reshape(-1, channels)\n",
        "        np.savetxt(\"rgb_image.txt\", flattened, fmt='%d')\n",
        "        with open(\"rgb_shape.txt\", \"w\") as shape_file:\n",
        "            shape_file.write(f\"{height} {width}\")\n",
        "        print(\"RGB image saved as 'rgb_image.txt' and shape saved in 'rgb_shape.txt'\")\n",
        "\n",
        "def load_saved_image():\n",
        "    if os.path.exists(\"grayscale_image.txt\"):\n",
        "        grayscale = np.loadtxt(\"grayscale_image.txt\", dtype=int)\n",
        "        print(\"Loaded Grayscale Image Array:\")\n",
        "        print(grayscale)\n",
        "        return grayscale\n",
        "    elif os.path.exists(\"rgb_image.txt\") and os.path.exists(\"rgb_shape.txt\"):\n",
        "        with open(\"rgb_shape.txt\", \"r\") as shape_file:\n",
        "            height, width = map(int, shape_file.read().split())\n",
        "        rgb_data = np.loadtxt(\"rgb_image.txt\", dtype=int).reshape(height, width, 3)\n",
        "        print(\"Loaded RGB Image Array:\")\n",
        "        print(rgb_data)\n",
        "        return rgb_data\n",
        "    else:\n",
        "        print(\"No saved image file found.\")\n",
        "        return None\n",
        "\n",
        "img_to_array(r\"/download.jpeg\")\n",
        "loaded_image = load_saved_image()"
      ],
      "metadata": {
        "colab": {
          "base_uri": "https://localhost:8080/"
        },
        "id": "B_CgYyCX8RN0",
        "outputId": "1160ba01-163a-47b1-d365-cc636b326e3c"
      },
      "execution_count": 2,
      "outputs": [
        {
          "output_type": "stream",
          "name": "stdout",
          "text": [
            "RGB image saved as 'rgb_image.txt' and shape saved in 'rgb_shape.txt'\n",
            "Loaded RGB Image Array:\n",
            "[[[152  79  98]\n",
            "  [152  79  98]\n",
            "  [154  77  97]\n",
            "  ...\n",
            "  [ 60  40  51]\n",
            "  [ 58  41  49]\n",
            "  [ 58  41  49]]\n",
            "\n",
            " [[152  79  98]\n",
            "  [153  78  98]\n",
            "  [155  78  98]\n",
            "  ...\n",
            "  [ 60  40  51]\n",
            "  [ 59  42  50]\n",
            "  [ 59  42  50]]\n",
            "\n",
            " [[154  79  99]\n",
            "  [154  79  99]\n",
            "  [156  79  99]\n",
            "  ...\n",
            "  [ 62  42  53]\n",
            "  [ 60  43  51]\n",
            "  [ 60  43  51]]\n",
            "\n",
            " ...\n",
            "\n",
            " [[ 73   7  11]\n",
            "  [ 76   7  12]\n",
            "  [ 88  17  23]\n",
            "  ...\n",
            "  [ 66  10  19]\n",
            "  [ 66  10  19]\n",
            "  [ 66  10  19]]\n",
            "\n",
            " [[ 94  23  29]\n",
            "  [ 90  19  25]\n",
            "  [ 85  12  19]\n",
            "  ...\n",
            "  [ 63   7  16]\n",
            "  [ 63   7  16]\n",
            "  [ 63   7  16]]\n",
            "\n",
            " [[100  25  30]\n",
            "  [107  32  37]\n",
            "  [111  34  40]\n",
            "  ...\n",
            "  [ 71  18  26]\n",
            "  [ 73  17  26]\n",
            "  [ 73  17  26]]]\n"
          ]
        }
      ]
    }
  ]
}